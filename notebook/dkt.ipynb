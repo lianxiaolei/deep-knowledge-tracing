{
 "cells": [
  {
   "cell_type": "code",
   "execution_count": 1,
   "metadata": {},
   "outputs": [],
   "source": [
    "import pandas as pd\n",
    "import numpy as np"
   ]
  },
  {
   "cell_type": "code",
   "execution_count": 40,
   "metadata": {
    "scrolled": true
   },
   "outputs": [
    {
     "name": "stdout",
     "output_type": "stream",
     "text": [
      "(2494, 3)\n"
     ]
    },
    {
     "data": {
      "text/html": [
       "<div>\n",
       "<style scoped>\n",
       "    .dataframe tbody tr th:only-of-type {\n",
       "        vertical-align: middle;\n",
       "    }\n",
       "\n",
       "    .dataframe tbody tr th {\n",
       "        vertical-align: top;\n",
       "    }\n",
       "\n",
       "    .dataframe thead th {\n",
       "        text-align: right;\n",
       "    }\n",
       "</style>\n",
       "<table border=\"1\" class=\"dataframe\">\n",
       "  <thead>\n",
       "    <tr style=\"text-align: right;\">\n",
       "      <th></th>\n",
       "      <th>s</th>\n",
       "      <th>q</th>\n",
       "      <th>r</th>\n",
       "    </tr>\n",
       "  </thead>\n",
       "  <tbody>\n",
       "    <tr>\n",
       "      <th>0</th>\n",
       "      <td>73011062240</td>\n",
       "      <td>1001731</td>\n",
       "      <td>1</td>\n",
       "    </tr>\n",
       "    <tr>\n",
       "      <th>1</th>\n",
       "      <td>73011062240</td>\n",
       "      <td>1006886</td>\n",
       "      <td>1</td>\n",
       "    </tr>\n",
       "    <tr>\n",
       "      <th>2</th>\n",
       "      <td>73011067382</td>\n",
       "      <td>1001441</td>\n",
       "      <td>0</td>\n",
       "    </tr>\n",
       "    <tr>\n",
       "      <th>3</th>\n",
       "      <td>73011067382</td>\n",
       "      <td>1001441</td>\n",
       "      <td>1</td>\n",
       "    </tr>\n",
       "    <tr>\n",
       "      <th>4</th>\n",
       "      <td>73011061163</td>\n",
       "      <td>1002031</td>\n",
       "      <td>0</td>\n",
       "    </tr>\n",
       "  </tbody>\n",
       "</table>\n",
       "</div>"
      ],
      "text/plain": [
       "             s        q  r\n",
       "0  73011062240  1001731  1\n",
       "1  73011062240  1006886  1\n",
       "2  73011067382  1001441  0\n",
       "3  73011067382  1001441  1\n",
       "4  73011061163  1002031  0"
      ]
     },
     "execution_count": 40,
     "metadata": {},
     "output_type": "execute_result"
    }
   ],
   "source": [
    "origin = pd.read_csv(\"../data/xbdata.csv\", names=['s', 'q', 'r'], \n",
    "                     sep='\\001', dtype='object')\n",
    "print(origin.shape)\n",
    "origin.head()"
   ]
  },
  {
   "cell_type": "code",
   "execution_count": 41,
   "metadata": {},
   "outputs": [
    {
     "data": {
      "text/plain": [
       "s\n",
       "73011061163    280\n",
       "73011067886    246\n",
       "73011055798    184\n",
       "73011067064    162\n",
       "73011056567    110\n",
       "73011067250    105\n",
       "73011068081     97\n",
       "73011065828     96\n",
       "73011047206     86\n",
       "73011063590     69\n",
       "73011067944     59\n",
       "73011066234     53\n",
       "73011055650     53\n",
       "73011051243     52\n",
       "73011055471     51\n",
       "73011043423     50\n",
       "73011049010     49\n",
       "73011062734     47\n",
       "73011062240     43\n",
       "73011068318     42\n",
       "Name: q, dtype: int64"
      ]
     },
     "execution_count": 41,
     "metadata": {},
     "output_type": "execute_result"
    }
   ],
   "source": [
    "groupby_s = origin.groupby(['s']).count()['q']\n",
    "groupby_s = groupby_s.sort_values(ascending=False)\n",
    "groupby_s[:20]"
   ]
  },
  {
   "cell_type": "code",
   "execution_count": 42,
   "metadata": {},
   "outputs": [
    {
     "data": {
      "text/plain": [
       "q\n",
       "1001048    81\n",
       "1001049    50\n",
       "1002876    44\n",
       "1009411    38\n",
       "1001335    33\n",
       "1009235    32\n",
       "1013564    28\n",
       "1002880    27\n",
       "1001731    26\n",
       "1001280    24\n",
       "1009597    24\n",
       "1001127    22\n",
       "1007786    22\n",
       "1001173    22\n",
       "1007782    21\n",
       "1002716    20\n",
       "1002870    20\n",
       "1013622    19\n",
       "1001170    19\n",
       "1007767    19\n",
       "Name: s, dtype: int64"
      ]
     },
     "execution_count": 42,
     "metadata": {},
     "output_type": "execute_result"
    }
   ],
   "source": [
    "groupby_q = origin.groupby(['q']).count()['s']\n",
    "groupby_q = groupby_q.sort_values(ascending=False)\n",
    "groupby_q[:20]"
   ]
  },
  {
   "cell_type": "code",
   "execution_count": 44,
   "metadata": {
    "scrolled": true
   },
   "outputs": [
    {
     "data": {
      "text/plain": [
       "('Question group count', (543,), 'Student group count', (47,))"
      ]
     },
     "execution_count": 44,
     "metadata": {},
     "output_type": "execute_result"
    }
   ],
   "source": [
    "'Question group count', groupby_q.shape, 'Student group count', groupby_s.shape"
   ]
  },
  {
   "cell_type": "code",
   "execution_count": 45,
   "metadata": {},
   "outputs": [
    {
     "data": {
      "text/plain": [
       "q        s          \n",
       "1001048  73011067064    81\n",
       "1001049  73011067064    50\n",
       "1002876  73011056567    40\n",
       "1009411  73011063590    38\n",
       "1009235  73011055798    32\n",
       "1001335  73011067944    32\n",
       "1009597  73011066257    24\n",
       "1001280  73011063482    24\n",
       "1002880  73011056567    23\n",
       "1001173  73011067250    22\n",
       "1007786  73011068081    22\n",
       "1001127  73011051243    22\n",
       "1007782  73011068081    21\n",
       "1002716  73011049010    20\n",
       "1001170  73011067250    19\n",
       "1002870  73011056567    19\n",
       "1007767  73011068081    19\n",
       "1009333  73011067886    18\n",
       "1013622  73011062734    18\n",
       "1007769  73011068081    18\n",
       "Name: r, dtype: int64"
      ]
     },
     "execution_count": 45,
     "metadata": {},
     "output_type": "execute_result"
    }
   ],
   "source": [
    "groupby_qs = origin.groupby(['q', 's']).count()['r']\n",
    "groupby_qs = groupby_qs.sort_values(ascending=False)\n",
    "groupby_qs[:20]"
   ]
  },
  {
   "cell_type": "code",
   "execution_count": null,
   "metadata": {},
   "outputs": [],
   "source": []
  }
 ],
 "metadata": {
  "kernelspec": {
   "display_name": "Python 3",
   "language": "python",
   "name": "python3"
  },
  "language_info": {
   "codemirror_mode": {
    "name": "ipython",
    "version": 3
   },
   "file_extension": ".py",
   "mimetype": "text/x-python",
   "name": "python",
   "nbconvert_exporter": "python",
   "pygments_lexer": "ipython3",
   "version": "3.7.3"
  },
  "latex_envs": {
   "LaTeX_envs_menu_present": true,
   "autoclose": false,
   "autocomplete": true,
   "bibliofile": "biblio.bib",
   "cite_by": "apalike",
   "current_citInitial": 1,
   "eqLabelWithNumbers": true,
   "eqNumInitial": 1,
   "hotkeys": {
    "equation": "Ctrl-E",
    "itemize": "Ctrl-I"
   },
   "labels_anchors": false,
   "latex_user_defs": false,
   "report_style_numbering": false,
   "user_envs_cfg": false
  }
 },
 "nbformat": 4,
 "nbformat_minor": 1
}
